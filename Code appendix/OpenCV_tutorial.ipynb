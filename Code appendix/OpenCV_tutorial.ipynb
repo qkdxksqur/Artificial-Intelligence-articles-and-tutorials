{
 "cells": [
  {
   "cell_type": "markdown",
   "metadata": {},
   "source": [
    "# OpenCV tutorial on Jupyter Notebook"
   ]
  },
  {
   "cell_type": "markdown",
   "metadata": {},
   "source": [
    "A few examples of OpenCV installation include:\n",
    "* `pip install opencv-python`\n",
    "* `conda install -c conda-forge opencv`"
   ]
  },
  {
   "cell_type": "markdown",
   "metadata": {},
   "source": [
    "## Import modules"
   ]
  },
  {
   "cell_type": "code",
   "execution_count": 26,
   "metadata": {},
   "outputs": [
    {
     "name": "stdout",
     "output_type": "stream",
     "text": [
      "4.10.0\n",
      "1.26.4\n"
     ]
    }
   ],
   "source": [
    "import cv2\n",
    "print(cv2.__version__)\n",
    "import os\n",
    "import numpy as np\n",
    "print(np.__version__)"
   ]
  },
  {
   "cell_type": "markdown",
   "metadata": {},
   "source": [
    "## Handling Images"
   ]
  },
  {
   "cell_type": "code",
   "execution_count": 27,
   "metadata": {},
   "outputs": [],
   "source": [
    "image_path = os.path.join('..','images','opencv_AlexProfile.png')"
   ]
  },
  {
   "cell_type": "code",
   "execution_count": 28,
   "metadata": {},
   "outputs": [],
   "source": [
    "img = cv2.imread(image_path,1)"
   ]
  },
  {
   "cell_type": "markdown",
   "metadata": {},
   "source": [
    "### Loading, processing, writing"
   ]
  },
  {
   "cell_type": "code",
   "execution_count": 29,
   "metadata": {},
   "outputs": [
    {
     "data": {
      "text/plain": [
       "True"
      ]
     },
     "execution_count": 29,
     "metadata": {},
     "output_type": "execute_result"
    }
   ],
   "source": [
    "# loading image\n",
    "img = cv2.imread(image_path,1)\n",
    "# displaying image\n",
    "cv2.imshow('image',img) #Image appears and disappear automatically\n",
    "# display the image indefinitely until the keyboard input (any key)\n",
    "cv2.waitKey(0)\n",
    "# destroy all opened windows\n",
    "cv2.destroyAllWindows()\n",
    "cv2.waitKey(1) # in order to close the opened window --> does not close \n",
    "# Convert the image to gray\n",
    "img = cv2.cvtColor(img,cv2.COLOR_BGR2GRAY)\n",
    "# saving image\n",
    "cv2.imwrite(os.path.join('..','images','opencv_AlexProfile_gray.png'),img)"
   ]
  },
  {
   "cell_type": "markdown",
   "metadata": {},
   "source": [
    "### Obtain properties of the image"
   ]
  },
  {
   "cell_type": "code",
   "execution_count": 30,
   "metadata": {},
   "outputs": [
    {
     "name": "stdout",
     "output_type": "stream",
     "text": [
      "(422, 527, 3)\n",
      "image height (rows): 422\n",
      "image width (cols): 527\n",
      "image channel: 3\n"
     ]
    }
   ],
   "source": [
    "img = cv2.imread(image_path,1)\n",
    "rows,cols,channel = img.shape\n",
    "print(img.shape) # height (rows), width (cols), channel\n",
    "print('image height (rows): {}\\nimage width (cols): {}\\nimage channel: {}'.format(rows,cols,channel))"
   ]
  },
  {
   "cell_type": "markdown",
   "metadata": {},
   "source": [
    "### Resizing"
   ]
  },
  {
   "cell_type": "code",
   "execution_count": 31,
   "metadata": {},
   "outputs": [
    {
     "name": "stdout",
     "output_type": "stream",
     "text": [
      "(400, 700, 3)\n"
     ]
    },
    {
     "data": {
      "text/plain": [
       "True"
      ]
     },
     "execution_count": 31,
     "metadata": {},
     "output_type": "execute_result"
    }
   ],
   "source": [
    "img = cv2.imread(image_path,1)\n",
    "img = cv2.resize(img,(700,400)) # width (cols) and height (rows)\n",
    "print(img.shape)\n",
    "cv2.imshow('image',img) \n",
    "cv2.waitKey(0)\n",
    "cv2.destroyAllWindows()\n",
    "cv2.waitKey(1)\n",
    "cv2.imwrite(os.path.join('..','images','opencv_resized_example.png'),img)"
   ]
  },
  {
   "cell_type": "markdown",
   "metadata": {},
   "source": [
    "### Insert geometric shapes on the image"
   ]
  },
  {
   "cell_type": "code",
   "execution_count": 32,
   "metadata": {},
   "outputs": [
    {
     "data": {
      "text/plain": [
       "True"
      ]
     },
     "execution_count": 32,
     "metadata": {},
     "output_type": "execute_result"
    }
   ],
   "source": [
    "img = cv2.imread(image_path,1)\n",
    "cv2.line(img,(0,0),(100,100),(255,0,255),2)\n",
    "cv2.circle(img,(300,300),50,(0,255,255),5)\n",
    "cv2.circle(img,(100,450),30,(100,100,255),-1)\n",
    "cv2.rectangle(img,(200,600),(450,700),(255,100,100),5)\n",
    "cv2.arrowedLine(img,(300,200),(500,200),(0,0,255),6)\n",
    "cv2.putText(img,\"Alex!!!\", (100,150), cv2.FONT_HERSHEY_SIMPLEX,3,(255,255,255),cv2.LINE_AA)\n",
    "cv2.imshow('image',img) \n",
    "cv2.waitKey(0)\n",
    "cv2.destroyAllWindows()\n",
    "cv2.waitKey(1)\n",
    "cv2.imwrite(os.path.join('..','images','opencv_shapes_example.png'),img)"
   ]
  },
  {
   "cell_type": "markdown",
   "metadata": {},
   "source": [
    "### Find pixel coordinate of the image"
   ]
  },
  {
   "cell_type": "code",
   "execution_count": 33,
   "metadata": {
    "scrolled": false
   },
   "outputs": [
    {
     "name": "stdout",
     "output_type": "stream",
     "text": [
      "Error: Unable to load image at path_to_your_image.jpg\n"
     ]
    }
   ],
   "source": [
    "import cv2\n",
    "import os\n",
    "\n",
    "def on_click(c_event, x, y, flags, param):\n",
    "    if c_event == cv2.EVENT_LBUTTONDOWN:\n",
    "        text = '({},{})'.format(x, y)\n",
    "        cv2.circle(img, (x, y), 5, (0, 0, 255), -1)\n",
    "        cv2.line(img, (x, 0), (x, rows), (0, 0, 255), 1, 4)\n",
    "        cv2.line(img, (0, y), (cols, y), (0, 0, 255), 1, 4)\n",
    "        cv2.putText(img, text, (x + 10, y), cv2.FONT_HERSHEY_PLAIN, 1.5, (0, 0, 255), 2, cv2.LINE_AA)\n",
    "        cv2.imshow('image', img)\n",
    "\n",
    "# Read the image\n",
    "image_path = 'path_to_your_image.png'  # Replace with your image path\n",
    "img = cv2.imread(image_path, 1)\n",
    "\n",
    "# Check if the image was loaded properly\n",
    "if img is None:\n",
    "    print(f\"Error: Unable to load image at {image_path}\")\n",
    "else:\n",
    "    # Get image dimensions\n",
    "    rows, cols, _ = img.shape\n",
    "\n",
    "    # Create a window named 'image'\n",
    "    cv2.namedWindow('image')\n",
    "\n",
    "    # Make a copy of the original image for resetting\n",
    "    clean_img = img.copy()\n",
    "\n",
    "    # Set mouse callback function for the window\n",
    "    cv2.setMouseCallback('image', on_click)\n",
    "\n",
    "    while True:\n",
    "        cv2.imshow('image', img)\n",
    "        key = cv2.waitKey(1) & 0xFF\n",
    "        if key == ord('r'):\n",
    "            img = clean_img.copy()\n",
    "        if key == ord('q'):\n",
    "            break\n",
    "\n",
    "    # Clean up and close windows\n",
    "    cv2.destroyAllWindows()\n",
    "    cv2.waitKey(1)\n",
    "\n",
    "    # Save the final image\n",
    "    output_path = os.path.join('..', 'images', 'opencv_getting_coord_example.png')\n",
    "    cv2.imwrite(output_path, img)\n"
   ]
  },
  {
   "cell_type": "markdown",
   "metadata": {},
   "source": [
    "### Simple processing - blurring to remove noise"
   ]
  },
  {
   "cell_type": "code",
   "execution_count": 34,
   "metadata": {},
   "outputs": [
    {
     "ename": "error",
     "evalue": "OpenCV(4.10.0) D:\\a\\opencv-python\\opencv-python\\opencv\\modules\\imgproc\\src\\box_filter.dispatch.cpp:446: error: (-215:Assertion failed) !_src.empty() in function 'cv::boxFilter'\n",
     "output_type": "error",
     "traceback": [
      "\u001b[1;31m---------------------------------------------------------------------------\u001b[0m",
      "\u001b[1;31merror\u001b[0m                                     Traceback (most recent call last)",
      "Cell \u001b[1;32mIn[34], line 4\u001b[0m\n\u001b[0;32m      2\u001b[0m img \u001b[38;5;241m=\u001b[39m cv2\u001b[38;5;241m.\u001b[39mimread(image_path,\u001b[38;5;241m1\u001b[39m)\n\u001b[0;32m      3\u001b[0m \u001b[38;5;66;03m# blurring by averaging\u001b[39;00m\n\u001b[1;32m----> 4\u001b[0m img_blur \u001b[38;5;241m=\u001b[39m cv2\u001b[38;5;241m.\u001b[39mblur(img,(\u001b[38;5;241m5\u001b[39m,\u001b[38;5;241m5\u001b[39m))\n\u001b[0;32m      5\u001b[0m \u001b[38;5;66;03m# blurring while preserving the edge\u001b[39;00m\n\u001b[0;32m      6\u001b[0m img_bf \u001b[38;5;241m=\u001b[39m cv2\u001b[38;5;241m.\u001b[39mbilateralFilter(img,\u001b[38;5;241m9\u001b[39m, \u001b[38;5;241m75\u001b[39m, \u001b[38;5;241m75\u001b[39m)\n",
      "\u001b[1;31merror\u001b[0m: OpenCV(4.10.0) D:\\a\\opencv-python\\opencv-python\\opencv\\modules\\imgproc\\src\\box_filter.dispatch.cpp:446: error: (-215:Assertion failed) !_src.empty() in function 'cv::boxFilter'\n"
     ]
    }
   ],
   "source": [
    "## other types include: Gaussian blurring, median blurring\n",
    "img = cv2.imread(image_path,1)\n",
    "# blurring by averaging\n",
    "img_blur = cv2.blur(img,(5,5))\n",
    "# blurring while preserving the edge\n",
    "img_bf = cv2.bilateralFilter(img,9, 75, 75)\n",
    "cv2.imshow('image',img) \n",
    "cv2.waitKey(0)\n",
    "cv2.imshow('image_blur',img_blur) \n",
    "cv2.waitKey(0)\n",
    "cv2.imshow('image_bf',img_bf) \n",
    "cv2.waitKey(0)\n",
    "cv2.destroyAllWindows()\n",
    "cv2.waitKey(1)\n",
    "cv2.imwrite(os.path.join('..','images','opencv_blur_example.png'),img_blur)\n",
    "cv2.imwrite(os.path.join('..','images','opencv_bf_example.png'),img_bf)"
   ]
  },
  {
   "cell_type": "markdown",
   "metadata": {},
   "source": [
    "### Simple processing - edge detection"
   ]
  },
  {
   "cell_type": "code",
   "execution_count": null,
   "metadata": {},
   "outputs": [
    {
     "data": {
      "text/plain": [
       "True"
      ]
     },
     "execution_count": 10,
     "metadata": {},
     "output_type": "execute_result"
    }
   ],
   "source": [
    "## other types include: sobel edge detection, Laplacian edge detection\n",
    "img = cv2.imread(image_path,1)\n",
    "img_canny = cv2.Canny(img,50,100)\n",
    "cv2.imshow('image',img) \n",
    "cv2.waitKey(0)\n",
    "cv2.imshow('image_canny',img_canny) \n",
    "cv2.waitKey(0)\n",
    "cv2.destroyAllWindows()\n",
    "cv2.waitKey(1)\n",
    "cv2.imwrite(os.path.join('..','images','opencv_canny_edge_example.png'),img_canny)"
   ]
  },
  {
   "cell_type": "markdown",
   "metadata": {},
   "source": [
    "### Simple processing - threshold filtering"
   ]
  },
  {
   "cell_type": "code",
   "execution_count": null,
   "metadata": {},
   "outputs": [
    {
     "data": {
      "text/plain": [
       "True"
      ]
     },
     "execution_count": 11,
     "metadata": {},
     "output_type": "execute_result"
    }
   ],
   "source": [
    "# the source image should be a grayscale image\n",
    "# other types of global th include: cv2.THRESH_BINARY_INV and cv2.THRESH_TOZERO_INV\n",
    "# other types of adaptive th include: cv2.ADAPTIVE_THRESH_GAUSSIAN_C\n",
    "\n",
    "img = cv2.imread(image_path,0)\n",
    "# 0 for below th and 1 for above th\n",
    "ret,th_binary = cv2.threshold(img,100,255,cv2.THRESH_BINARY)\n",
    "# keep the same value up to th and set th for all the higher values --> similar to low-pass filter\n",
    "ret,th_trunc = cv2.threshold(img,100,255,cv2.THRESH_TRUNC)\n",
    "# 0 for below th and keep the same value for above th\n",
    "ret,th_tozero = cv2.threshold(img,100,255,cv2.THRESH_TOZERO)\n",
    "# adaptive filtering calculates th for small regions of the image --> better result for an image with varying illuminations\n",
    "th_adap_mean = cv2.adaptiveThreshold(img,255,cv2.ADAPTIVE_THRESH_MEAN_C,cv2.THRESH_BINARY,11,2)\n",
    "\n",
    "cv2.imshow('image_binary',th_binary) \n",
    "cv2.waitKey(0)\n",
    "cv2.imshow('image_trunc',th_trunc) \n",
    "cv2.waitKey(0)\n",
    "cv2.imshow('image_tozero',th_tozero) \n",
    "cv2.waitKey(0)\n",
    "cv2.imshow('image_adap',th_adap_mean) \n",
    "cv2.waitKey(0)\n",
    "cv2.destroyAllWindows()\n",
    "cv2.waitKey(1)\n",
    "cv2.imwrite(os.path.join('..','images','opencv_th_binary_example.png'),th_binary)\n",
    "cv2.imwrite(os.path.join('..','images','opencv_th_trunc_example.png'),th_trunc)\n",
    "cv2.imwrite(os.path.join('..','images','opencv_th_tozero_example.png'),th_tozero)\n",
    "cv2.imwrite(os.path.join('..','images','opencv_th_adap_mean_example.png'),th_adap_mean)"
   ]
  },
  {
   "cell_type": "markdown",
   "metadata": {},
   "source": [
    "### Optimizing the parameters"
   ]
  },
  {
   "cell_type": "code",
   "execution_count": null,
   "metadata": {},
   "outputs": [
    {
     "name": "stdout",
     "output_type": "stream",
     "text": [
      "Error: Unable to load image at path_to_your_image.png\n"
     ]
    }
   ],
   "source": [
    "import cv2\n",
    "import os\n",
    "\n",
    "# Read the image\n",
    "image_path = 'path_to_your_image.png'  # Replace with your image path\n",
    "img = cv2.imread(image_path, 1)\n",
    "\n",
    "# Check if the image was loaded properly\n",
    "if img is None:\n",
    "    print(f\"Error: Unable to load image at {image_path}\")\n",
    "else:\n",
    "    # Create a window named 'image_canny'\n",
    "    cv2.namedWindow('image_canny')\n",
    "\n",
    "    # Create trackbars for threshold adjustment\n",
    "    cv2.createTrackbar('th1', 'image_canny', 100, 255, lambda x: None)\n",
    "    cv2.createTrackbar('th2', 'image_canny', 200, 255, lambda x: None)\n",
    "\n",
    "    while True:\n",
    "        # Get current positions of the trackbars\n",
    "        th1 = cv2.getTrackbarPos('th1', 'image_canny')\n",
    "        th2 = cv2.getTrackbarPos('th2', 'image_canny')\n",
    "\n",
    "        # Apply Canny edge detection with current trackbar positions\n",
    "        img_canny = cv2.Canny(img, th1, th2)\n",
    "        \n",
    "        # Display the result\n",
    "        cv2.imshow('image_canny', img_canny)\n",
    "        \n",
    "        # Break the loop when 'q' key is pressed\n",
    "        if cv2.waitKey(1) & 0xFF == ord('q'):\n",
    "            break\n",
    "\n",
    "    # Clean up and close windows\n",
    "    cv2.destroyAllWindows()\n",
    "    cv2.waitKey(1)\n",
    "\n",
    "    # Print chosen threshold values\n",
    "    print(f'chosen th1: {th1}\\nchosen th2: {th2}')\n",
    "\n",
    "    # Save the final image\n",
    "    output_path = os.path.join('..', 'images', 'opencv_canny_edge_optimized_example.png')\n",
    "    cv2.imwrite(output_path, img_canny)\n"
   ]
  }
 ],
 "metadata": {
  "kernelspec": {
   "display_name": "Python 3",
   "language": "python",
   "name": "python3"
  },
  "language_info": {
   "codemirror_mode": {
    "name": "ipython",
    "version": 3
   },
   "file_extension": ".py",
   "mimetype": "text/x-python",
   "name": "python",
   "nbconvert_exporter": "python",
   "pygments_lexer": "ipython3",
   "version": "3.11.7"
  }
 },
 "nbformat": 4,
 "nbformat_minor": 2
}
